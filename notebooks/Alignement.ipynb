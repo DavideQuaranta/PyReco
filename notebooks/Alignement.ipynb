{
 "cells": [
  {
   "cell_type": "code",
   "execution_count": null,
   "metadata": {},
   "outputs": [],
   "source": [
    "import pickle\n",
    "import numpy as np\n",
    "import matplotlib.pyplot as plt"
   ]
  },
  {
   "cell_type": "code",
   "execution_count": null,
   "metadata": {},
   "outputs": [],
   "source": [
    "runs = [2121, 2124, 2125, 2126, 2127, 2128, 2129,2130, 2132, 2133, 2134, 2135, 2136, 2137]\n",
    "# runs = [2133, 2134, 2135, 2136, 2137]\n",
    "\n",
    "dir = '../output/histos/'\n",
    "\n",
    "cent_TMM = []\n",
    "cent_ExMe = []\n",
    "\n",
    "for run in runs:\n",
    "    filename = dir + str(run) + '/Centroid_P0_RM1' + '.pkl'\n",
    "    filename2 = dir + str(run) + '/Centroid_P2_M01' + '.pkl'\n",
    "    with open(filename, 'rb') as file:\n",
    "        # print(run)\n",
    "        TMM = pickle.load(file)\n",
    "        # print(TMM)\n",
    "        cent_TMM.append(np.mean(TMM))\n",
    "    with open(filename2, 'rb') as file2:\n",
    "        ExMe = pickle.load(file2)\n",
    "        # print(ExMe)\n",
    "        # n, bins, patches = plt.hist(ExMe, histtype='step', bins = 1000)\n",
    "        cent_ExMe.append(np.mean(ExMe))\n",
    "\n",
    "    print(f'run : {run}  TMM : {np.mean(TMM):.3f}   ExMe : {np.mean(ExMe):.3f}')"
   ]
  },
  {
   "cell_type": "markdown",
   "metadata": {},
   "source": [
    "Here i try to compute the alignement of the two chambers from the strips distribution, which is indipendent on the clustering algorithm."
   ]
  },
  {
   "cell_type": "code",
   "execution_count": null,
   "metadata": {},
   "outputs": [],
   "source": [
    "runs = [2121, 2124,2130,2131, 2132, 2133, 2134, 2135, 2136, 2137]\n",
    "\n",
    "dir = '../output/histos/'\n",
    "\n",
    "strips_TMM = []\n",
    "strips_ExMe = []\n",
    "\n",
    "with open('../alignementWithStrips.txt', 'a') as file:\n",
    "\n",
    "    file.write('run TMM_center[mm] ExMe_center[mm]')\n",
    "\n",
    "    for run in runs:\n",
    "        filename = dir + str(run) + '/Strips_P0_RM1' + '.pkl'\n",
    "        filename2 = dir + str(run) + '/Strips_P2_M01' + '.pkl'\n",
    "        with open(filename, 'rb') as file:\n",
    "            # print(run)\n",
    "            TMM = pickle.load(file)\n",
    "            # print(TMM)\n",
    "            strips_TMM.append(np.mean(TMM)*0.25)\n",
    "        with open(filename2, 'rb') as file2:\n",
    "            ExMe = pickle.load(file2)\n",
    "            # print(ExMe)\n",
    "            # n, bins, patches = plt.hist(ExMe, histtype='step', bins = 1000)\n",
    "            strips_ExMe.append(np.mean(ExMe)*0.4)\n",
    "\n",
    "        print(f'run : {run}  TMM : {np.mean(TMM)*0.25:.3f}   ExMe : {np.mean(ExMe)*0.4:.3f}')\n",
    "        with open('../alignementWithStrips.txt', 'a') as file:\n",
    "            file.write(f'{run} {np.mean(TMM)*0.25} {np.mean(ExMe)*0.4}\\n')"
   ]
  }
 ],
 "metadata": {
  "kernelspec": {
   "display_name": "Python 3",
   "language": "python",
   "name": "python3"
  },
  "language_info": {
   "codemirror_mode": {
    "name": "ipython",
    "version": 3
   },
   "file_extension": ".py",
   "mimetype": "text/x-python",
   "name": "python",
   "nbconvert_exporter": "python",
   "pygments_lexer": "ipython3",
   "version": "3.11.9"
  }
 },
 "nbformat": 4,
 "nbformat_minor": 2
}
